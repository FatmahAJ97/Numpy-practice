{
 "cells": [
  {
   "cell_type": "code",
   "execution_count": null,
   "metadata": {},
   "outputs": [],
   "source": [
    "# numpy:\n",
    "\n",
    "# importing libraries\n",
    "\n",
    "# create any numpy array:\n",
    "a = \n",
    "\n",
    "\n",
    "print(a)\n",
    "type(a), a.shape, a.dtype\n",
    "\n"
   ]
  },
  {
   "cell_type": "code",
   "execution_count": null,
   "metadata": {},
   "outputs": [],
   "source": [
    "# create zeros array:\n",
    "a = \n",
    "\n",
    "print( a)\n",
    "type(a), a.shape, a.dtype\n"
   ]
  },
  {
   "cell_type": "code",
   "execution_count": null,
   "metadata": {},
   "outputs": [],
   "source": [
    "#create array with spcfic number:\n",
    "a = \n",
    "\n",
    "print( a)\n",
    "type(a), a.shape, a.dtype\n"
   ]
  },
  {
   "cell_type": "code",
   "execution_count": null,
   "metadata": {},
   "outputs": [],
   "source": [
    "#create idintity array\n",
    "a = \n",
    "\n",
    "print( a)\n",
    "type(a), a.shape, a.dtype"
   ]
  },
  {
   "cell_type": "code",
   "execution_count": null,
   "metadata": {},
   "outputs": [],
   "source": [
    "#set a random seed:\n",
    "np.random.seed(42)\n",
    "\n",
    "\n",
    "# create array with random numbers\n",
    "b =  \n",
    "\n",
    "print( b)\n",
    "type(b), b.shape, b.dtype"
   ]
  },
  {
   "cell_type": "code",
   "execution_count": null,
   "metadata": {},
   "outputs": [],
   "source": [
    "#sliceing:\n",
    "print(b[0]) #first row\n",
    "print(b[0,1]) #first value in the first row\n",
    "print(b[:,0])  #first column"
   ]
  },
  {
   "cell_type": "code",
   "execution_count": null,
   "metadata": {},
   "outputs": [],
   "source": [
    "# Matrix Operations: \n",
    "# addition\n",
    "\n",
    "\n",
    "# subtraction\n",
    "\n",
    "\n",
    "# multiplication\n",
    "\n",
    "\n",
    "# division\n"
   ]
  },
  {
   "cell_type": "code",
   "execution_count": null,
   "metadata": {},
   "outputs": [],
   "source": [
    "#inner product a.b\n"
   ]
  },
  {
   "cell_type": "code",
   "execution_count": null,
   "metadata": {},
   "outputs": [],
   "source": [
    "#matrtic transpose/ flip\n",
    "# original matrix\n",
    "print(b, '\\n')\n",
    "\n",
    "# matrix transpose\n",
    "t=\n",
    "print(t)"
   ]
  },
  {
   "cell_type": "code",
   "execution_count": null,
   "metadata": {},
   "outputs": [],
   "source": []
  }
 ],
 "metadata": {
  "kernelspec": {
   "display_name": "Python 3",
   "language": "python",
   "name": "python3"
  },
  "language_info": {
   "codemirror_mode": {
    "name": "ipython",
    "version": 3
   },
   "file_extension": ".py",
   "mimetype": "text/x-python",
   "name": "python",
   "nbconvert_exporter": "python",
   "pygments_lexer": "ipython3",
   "version": "3.7.3"
  }
 },
 "nbformat": 4,
 "nbformat_minor": 2
}
